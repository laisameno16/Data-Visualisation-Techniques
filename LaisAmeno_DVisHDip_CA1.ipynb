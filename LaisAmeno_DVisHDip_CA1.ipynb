{
 "cells": [
  {
   "cell_type": "markdown",
   "id": "f91ad88f",
   "metadata": {},
   "source": [
    "# This is a project \n",
    "\n",
    "Scenario:  \n",
    "  \n",
    "You have been retained by a retail company to analyse a dataset based on board games. This analysis will help determine the sales strategy for the company in their upcoming Winter season.   \n",
    "  \n",
    "Each answer MUST have a separate visualization that can be easily understood, visually represents the answer, and all data wrangling, analysis, and visualizations must generated using python.  \n",
    "   \n",
    "The companies CTO also requires you to rationalize all the decisions that you have made in your report.   \n",
    "  \n",
    "This rationalization MUST include your visualization design decisions, how you have engineered the data, feature selection and any other information that you deem relevant.   \n",
    "  \n",
    "Requirements  \n",
    "  \n",
    "You are required to use the dataset contained within the file “board_games.csv” and then answer the following questions:  \n",
    "  \n",
    "Part 1: (Column Names are denoted by quotation marks)  (30 marks)\n",
    "  \n",
    "•\tWhat are the top 5 “average rated” games?  \n",
    "•\tIs there a correlation between the “users_rated” and the “max_playtime”?  \n",
    "•\tWhat is the distribution of game categories? (You may not use a barchart)\n",
    "•\tDo older games (1992 and earlier) have a higher MEDIAN “average rating” than newer games (after 1992)?  \n",
    "•\tWhat are the 5 most common “mechanics” in the dataset?  \n"
   ]
  },
  {
   "cell_type": "code",
   "execution_count": 1,
   "id": "4dfbfc65",
   "metadata": {},
   "outputs": [],
   "source": [
    "import numpy as np\n",
    "import matplotlib.pyplot as plt\n",
    "import seaborn as sns\n",
    "import pandas as pd\n",
    "from scipy import stats\n",
    "sns.set()"
   ]
  },
  {
   "cell_type": "code",
   "execution_count": 2,
   "id": "aff3011f",
   "metadata": {},
   "outputs": [
    {
     "data": {
      "text/html": [
       "<div>\n",
       "<style scoped>\n",
       "    .dataframe tbody tr th:only-of-type {\n",
       "        vertical-align: middle;\n",
       "    }\n",
       "\n",
       "    .dataframe tbody tr th {\n",
       "        vertical-align: top;\n",
       "    }\n",
       "\n",
       "    .dataframe thead th {\n",
       "        text-align: right;\n",
       "    }\n",
       "</style>\n",
       "<table border=\"1\" class=\"dataframe\">\n",
       "  <thead>\n",
       "    <tr style=\"text-align: right;\">\n",
       "      <th></th>\n",
       "      <th>game_id</th>\n",
       "      <th>description</th>\n",
       "      <th>image</th>\n",
       "      <th>max_players</th>\n",
       "      <th>max_playtime</th>\n",
       "      <th>min_age</th>\n",
       "      <th>min_players</th>\n",
       "      <th>min_playtime</th>\n",
       "      <th>name</th>\n",
       "      <th>playing_time</th>\n",
       "      <th>...</th>\n",
       "      <th>artist</th>\n",
       "      <th>category</th>\n",
       "      <th>compilation</th>\n",
       "      <th>designer</th>\n",
       "      <th>expansion</th>\n",
       "      <th>family</th>\n",
       "      <th>mechanic</th>\n",
       "      <th>publisher</th>\n",
       "      <th>average_rating</th>\n",
       "      <th>users_rated</th>\n",
       "    </tr>\n",
       "  </thead>\n",
       "  <tbody>\n",
       "    <tr>\n",
       "      <th>0</th>\n",
       "      <td>1</td>\n",
       "      <td>Die Macher is a game about seven sequential po...</td>\n",
       "      <td>//cf.geekdo-images.com/images/pic159509.jpg</td>\n",
       "      <td>5</td>\n",
       "      <td>240</td>\n",
       "      <td>14</td>\n",
       "      <td>3</td>\n",
       "      <td>240</td>\n",
       "      <td>Die Macher</td>\n",
       "      <td>240</td>\n",
       "      <td>...</td>\n",
       "      <td>Marcus Gschwendtner</td>\n",
       "      <td>Economic,Negotiation,Political</td>\n",
       "      <td>NaN</td>\n",
       "      <td>Karl-Heinz Schmiel</td>\n",
       "      <td>NaN</td>\n",
       "      <td>Country: Germany,Valley Games Classic Line</td>\n",
       "      <td>Area Control / Area Influence,Auction/Bidding,...</td>\n",
       "      <td>Hans im Glück Verlags-GmbH,Moskito Spiele,Vall...</td>\n",
       "      <td>7.66508</td>\n",
       "      <td>4498</td>\n",
       "    </tr>\n",
       "    <tr>\n",
       "      <th>1</th>\n",
       "      <td>2</td>\n",
       "      <td>Dragonmaster is a trick-taking card game based...</td>\n",
       "      <td>//cf.geekdo-images.com/images/pic184174.jpg</td>\n",
       "      <td>4</td>\n",
       "      <td>30</td>\n",
       "      <td>12</td>\n",
       "      <td>3</td>\n",
       "      <td>30</td>\n",
       "      <td>Dragonmaster</td>\n",
       "      <td>30</td>\n",
       "      <td>...</td>\n",
       "      <td>Bob Pepper</td>\n",
       "      <td>Card Game,Fantasy</td>\n",
       "      <td>NaN</td>\n",
       "      <td>G. W. \"Jerry\" D'Arcey</td>\n",
       "      <td>NaN</td>\n",
       "      <td>Animals: Dragons</td>\n",
       "      <td>Trick-taking</td>\n",
       "      <td>E.S. Lowe,Milton Bradley</td>\n",
       "      <td>6.60815</td>\n",
       "      <td>478</td>\n",
       "    </tr>\n",
       "    <tr>\n",
       "      <th>2</th>\n",
       "      <td>3</td>\n",
       "      <td>Part of the Knizia tile-laying trilogy, Samura...</td>\n",
       "      <td>//cf.geekdo-images.com/images/pic3211873.jpg</td>\n",
       "      <td>4</td>\n",
       "      <td>60</td>\n",
       "      <td>10</td>\n",
       "      <td>2</td>\n",
       "      <td>30</td>\n",
       "      <td>Samurai</td>\n",
       "      <td>60</td>\n",
       "      <td>...</td>\n",
       "      <td>Franz Vohwinkel</td>\n",
       "      <td>Abstract Strategy,Medieval</td>\n",
       "      <td>NaN</td>\n",
       "      <td>Reiner Knizia</td>\n",
       "      <td>NaN</td>\n",
       "      <td>Asian Theme,Country: Japan,Knizia tile-laying ...</td>\n",
       "      <td>Area Control / Area Influence,Hand Management,...</td>\n",
       "      <td>999 Games,ABACUSSPIELE,Astrel Games,Ceilikan J...</td>\n",
       "      <td>7.44119</td>\n",
       "      <td>12019</td>\n",
       "    </tr>\n",
       "    <tr>\n",
       "      <th>3</th>\n",
       "      <td>4</td>\n",
       "      <td>When you see the triangular box and the luxuri...</td>\n",
       "      <td>//cf.geekdo-images.com/images/pic285299.jpg</td>\n",
       "      <td>4</td>\n",
       "      <td>60</td>\n",
       "      <td>12</td>\n",
       "      <td>2</td>\n",
       "      <td>60</td>\n",
       "      <td>Tal der Könige</td>\n",
       "      <td>60</td>\n",
       "      <td>...</td>\n",
       "      <td>NaN</td>\n",
       "      <td>Ancient</td>\n",
       "      <td>NaN</td>\n",
       "      <td>Christian Beierer</td>\n",
       "      <td>NaN</td>\n",
       "      <td>Country: Egypt,Promotional Board Games</td>\n",
       "      <td>Action Point Allowance System,Area Control / A...</td>\n",
       "      <td>KOSMOS</td>\n",
       "      <td>6.60675</td>\n",
       "      <td>314</td>\n",
       "    </tr>\n",
       "    <tr>\n",
       "      <th>4</th>\n",
       "      <td>5</td>\n",
       "      <td>In Acquire, each player strategically invests ...</td>\n",
       "      <td>//cf.geekdo-images.com/images/pic342163.jpg</td>\n",
       "      <td>6</td>\n",
       "      <td>90</td>\n",
       "      <td>12</td>\n",
       "      <td>3</td>\n",
       "      <td>90</td>\n",
       "      <td>Acquire</td>\n",
       "      <td>90</td>\n",
       "      <td>...</td>\n",
       "      <td>Scott Okumura,Peter Whitley</td>\n",
       "      <td>Economic</td>\n",
       "      <td>NaN</td>\n",
       "      <td>Sid Sackson</td>\n",
       "      <td>NaN</td>\n",
       "      <td>3M Bookshelf Series</td>\n",
       "      <td>Hand Management,Stock Holding,Tile Placement</td>\n",
       "      <td>3M,Avalon Hill,Avalon Hill (Hasbro),Dujardin,G...</td>\n",
       "      <td>7.35830</td>\n",
       "      <td>15195</td>\n",
       "    </tr>\n",
       "  </tbody>\n",
       "</table>\n",
       "<p>5 rows × 22 columns</p>\n",
       "</div>"
      ],
      "text/plain": [
       "   game_id                                        description  \\\n",
       "0        1  Die Macher is a game about seven sequential po...   \n",
       "1        2  Dragonmaster is a trick-taking card game based...   \n",
       "2        3  Part of the Knizia tile-laying trilogy, Samura...   \n",
       "3        4  When you see the triangular box and the luxuri...   \n",
       "4        5  In Acquire, each player strategically invests ...   \n",
       "\n",
       "                                          image  max_players  max_playtime  \\\n",
       "0   //cf.geekdo-images.com/images/pic159509.jpg            5           240   \n",
       "1   //cf.geekdo-images.com/images/pic184174.jpg            4            30   \n",
       "2  //cf.geekdo-images.com/images/pic3211873.jpg            4            60   \n",
       "3   //cf.geekdo-images.com/images/pic285299.jpg            4            60   \n",
       "4   //cf.geekdo-images.com/images/pic342163.jpg            6            90   \n",
       "\n",
       "   min_age  min_players  min_playtime            name  playing_time  ...  \\\n",
       "0       14            3           240      Die Macher           240  ...   \n",
       "1       12            3            30    Dragonmaster            30  ...   \n",
       "2       10            2            30         Samurai            60  ...   \n",
       "3       12            2            60  Tal der Könige            60  ...   \n",
       "4       12            3            90         Acquire            90  ...   \n",
       "\n",
       "                        artist                        category compilation  \\\n",
       "0          Marcus Gschwendtner  Economic,Negotiation,Political         NaN   \n",
       "1                   Bob Pepper               Card Game,Fantasy         NaN   \n",
       "2              Franz Vohwinkel      Abstract Strategy,Medieval         NaN   \n",
       "3                          NaN                         Ancient         NaN   \n",
       "4  Scott Okumura,Peter Whitley                        Economic         NaN   \n",
       "\n",
       "                designer expansion  \\\n",
       "0     Karl-Heinz Schmiel       NaN   \n",
       "1  G. W. \"Jerry\" D'Arcey       NaN   \n",
       "2          Reiner Knizia       NaN   \n",
       "3      Christian Beierer       NaN   \n",
       "4            Sid Sackson       NaN   \n",
       "\n",
       "                                              family  \\\n",
       "0         Country: Germany,Valley Games Classic Line   \n",
       "1                                   Animals: Dragons   \n",
       "2  Asian Theme,Country: Japan,Knizia tile-laying ...   \n",
       "3             Country: Egypt,Promotional Board Games   \n",
       "4                                3M Bookshelf Series   \n",
       "\n",
       "                                            mechanic  \\\n",
       "0  Area Control / Area Influence,Auction/Bidding,...   \n",
       "1                                       Trick-taking   \n",
       "2  Area Control / Area Influence,Hand Management,...   \n",
       "3  Action Point Allowance System,Area Control / A...   \n",
       "4       Hand Management,Stock Holding,Tile Placement   \n",
       "\n",
       "                                           publisher average_rating  \\\n",
       "0  Hans im Glück Verlags-GmbH,Moskito Spiele,Vall...        7.66508   \n",
       "1                           E.S. Lowe,Milton Bradley        6.60815   \n",
       "2  999 Games,ABACUSSPIELE,Astrel Games,Ceilikan J...        7.44119   \n",
       "3                                             KOSMOS        6.60675   \n",
       "4  3M,Avalon Hill,Avalon Hill (Hasbro),Dujardin,G...        7.35830   \n",
       "\n",
       "  users_rated  \n",
       "0        4498  \n",
       "1         478  \n",
       "2       12019  \n",
       "3         314  \n",
       "4       15195  \n",
       "\n",
       "[5 rows x 22 columns]"
      ]
     },
     "execution_count": 2,
     "metadata": {},
     "output_type": "execute_result"
    }
   ],
   "source": [
    "# read the data\n",
    "\n",
    "df= pd.read_csv('board_games.csv')\n",
    "\n",
    "# first 5 rows\n",
    "df.head()"
   ]
  },
  {
   "cell_type": "code",
   "execution_count": 3,
   "id": "e71dbca9",
   "metadata": {},
   "outputs": [
    {
     "name": "stdout",
     "output_type": "stream",
     "text": [
      "<class 'pandas.core.frame.DataFrame'>\n",
      "RangeIndex: 10532 entries, 0 to 10531\n",
      "Data columns (total 22 columns):\n",
      " #   Column          Non-Null Count  Dtype  \n",
      "---  ------          --------------  -----  \n",
      " 0   game_id         10532 non-null  int64  \n",
      " 1   description     10532 non-null  object \n",
      " 2   image           10531 non-null  object \n",
      " 3   max_players     10532 non-null  int64  \n",
      " 4   max_playtime    10532 non-null  int64  \n",
      " 5   min_age         10532 non-null  int64  \n",
      " 6   min_players     10532 non-null  int64  \n",
      " 7   min_playtime    10532 non-null  int64  \n",
      " 8   name            10532 non-null  object \n",
      " 9   playing_time    10532 non-null  int64  \n",
      " 10  thumbnail       10531 non-null  object \n",
      " 11  year_published  10532 non-null  int64  \n",
      " 12  artist          7759 non-null   object \n",
      " 13  category        10438 non-null  object \n",
      " 14  compilation     410 non-null    object \n",
      " 15  designer        10406 non-null  object \n",
      " 16  expansion       2752 non-null   object \n",
      " 17  family          7724 non-null   object \n",
      " 18  mechanic        9582 non-null   object \n",
      " 19  publisher       10529 non-null  object \n",
      " 20  average_rating  10532 non-null  float64\n",
      " 21  users_rated     10532 non-null  int64  \n",
      "dtypes: float64(1), int64(9), object(12)\n",
      "memory usage: 1.8+ MB\n"
     ]
    }
   ],
   "source": [
    "df.info()"
   ]
  },
  {
   "cell_type": "code",
   "execution_count": 4,
   "id": "72b04952",
   "metadata": {},
   "outputs": [
    {
     "data": {
      "text/plain": [
       "(10532, 22)"
      ]
     },
     "execution_count": 4,
     "metadata": {},
     "output_type": "execute_result"
    }
   ],
   "source": [
    "df.shape"
   ]
  },
  {
   "cell_type": "markdown",
   "id": "baeb7be8",
   "metadata": {},
   "source": [
    "We observe the data set contain 10532 rows and 22 features, the are mix of numbers and string values and some of the columns are missing data."
   ]
  },
  {
   "cell_type": "markdown",
   "id": "9b9d4d57",
   "metadata": {},
   "source": [
    "# Cleaning Data"
   ]
  },
  {
   "cell_type": "code",
   "execution_count": 5,
   "id": "d2e34cae",
   "metadata": {},
   "outputs": [],
   "source": [
    "# a list with all missing value formats\n",
    "missing_value_formats = [\"n.a.\",\"?\",\"NA\",\"n/a\", \"na\", \"--\"]\n",
    "df = pd.read_csv(\"board_games.csv\", na_values = missing_value_formats)"
   ]
  },
  {
   "cell_type": "code",
   "execution_count": 6,
   "id": "f04e0a61",
   "metadata": {},
   "outputs": [
    {
     "data": {
      "text/plain": [
       "game_id               0\n",
       "description           0\n",
       "image                 1\n",
       "max_players           0\n",
       "max_playtime          0\n",
       "min_age               0\n",
       "min_players           0\n",
       "min_playtime          0\n",
       "name                  0\n",
       "playing_time          0\n",
       "thumbnail             1\n",
       "year_published        0\n",
       "artist             2773\n",
       "category             94\n",
       "compilation       10122\n",
       "designer            126\n",
       "expansion          7780\n",
       "family             2808\n",
       "mechanic            950\n",
       "publisher             3\n",
       "average_rating        0\n",
       "users_rated           0\n",
       "dtype: int64"
      ]
     },
     "execution_count": 6,
     "metadata": {},
     "output_type": "execute_result"
    }
   ],
   "source": [
    "df.isnull().sum()"
   ]
  },
  {
   "cell_type": "code",
   "execution_count": 10,
   "id": "6fe3bcfb",
   "metadata": {},
   "outputs": [
    {
     "data": {
      "text/plain": [
       "array([[<AxesSubplot:title={'center':'average_rating'}>]], dtype=object)"
      ]
     },
     "execution_count": 10,
     "metadata": {},
     "output_type": "execute_result"
    },
    {
     "data": {
      "image/png": "[encoded data removed]",
      "text/plain": [
       "<Figure size 640x480 with 1 Axes>"
      ]
     },
     "metadata": {},
     "output_type": "display_data"
    }
   ],
   "source": [
    "df.hist(column = 'average_rating')"
   ]
  },
  {
   "cell_type": "code",
   "execution_count": null,
   "id": "368d91a6",
   "metadata": {},
   "outputs": [],
   "source": [
    "sns.catplot('average_rating',data= df, kind= 'count', color='purple', aspect= 1.5);"
   ]
  },
  {
   "cell_type": "code",
   "execution_count": null,
   "id": "d8f1b074",
   "metadata": {},
   "outputs": [],
   "source": []
  }
 ],
 "metadata": {
  "kernelspec": {
   "display_name": "Python 3 (ipykernel)",
   "language": "python",
   "name": "python3"
  },
  "language_info": {
   "codemirror_mode": {
    "name": "ipython",
    "version": 3
   },
   "file_extension": ".py",
   "mimetype": "text/x-python",
   "name": "python",
   "nbconvert_exporter": "python",
   "pygments_lexer": "ipython3",
   "version": "3.9.13"
  }
 },
 "nbformat": 4,
 "nbformat_minor": 5
}
